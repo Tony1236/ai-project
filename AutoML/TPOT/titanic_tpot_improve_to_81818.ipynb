{
  "nbformat": 4,
  "nbformat_minor": 0,
  "metadata": {
    "kernelspec": {
      "display_name": "Python 3",
      "language": "python",
      "name": "python3"
    },
    "language_info": {
      "codemirror_mode": {
        "name": "ipython",
        "version": 3
      },
      "file_extension": ".py",
      "mimetype": "text/x-python",
      "name": "python",
      "nbconvert_exporter": "python",
      "pygments_lexer": "ipython3",
      "version": "3.6.4"
    },
    "colab": {
      "name": "titanic-tpot-improve-to-81818.ipynb",
      "provenance": [],
      "collapsed_sections": []
    }
  },
  "cells": [
    {
      "cell_type": "code",
      "metadata": {
        "_cell_guid": "b1076dfc-b9ad-4769-8c92-a6c4dae69d19",
        "_uuid": "8f2839f25d086af736a60e9eeb907d3b93b6e0e5",
        "id": "hyER9Yf69Qna",
        "colab_type": "code",
        "colab": {}
      },
      "source": [
        "# import libraries for data analysis\n",
        "import pandas as pd\n",
        "import numpy as np\n",
        "import matplotlib.pyplot as plt\n",
        "import seaborn as sns\n",
        "%matplotlib inline"
      ],
      "execution_count": 0,
      "outputs": []
    },
    {
      "cell_type": "code",
      "metadata": {
        "_cell_guid": "79c7e3d0-c299-4dcb-8224-4455121ee9b0",
        "_uuid": "d629ff2d2480ee46fbb7e2d37f6b5fab8052498a",
        "id": "RyHwvAEv9Qng",
        "colab_type": "code",
        "colab": {},
        "outputId": "879efb53-80bf-48db-dc76-b8d838409e71"
      },
      "source": [
        "# list data files that are connected to the kernel\n",
        "import os\n",
        "os.listdir('../input/')"
      ],
      "execution_count": 0,
      "outputs": [
        {
          "output_type": "execute_result",
          "data": {
            "text/plain": [
              "['gender_submission.csv', 'test.csv', 'train.csv']"
            ]
          },
          "metadata": {
            "tags": []
          },
          "execution_count": 2
        }
      ]
    },
    {
      "cell_type": "code",
      "metadata": {
        "_uuid": "6fa22e5a88b65ff1d98b930f36b6e3c0d425fa6f",
        "id": "iYRNygGy9Qnm",
        "colab_type": "code",
        "colab": {},
        "outputId": "fc7bfcf5-8ca1-47a9-d943-c99f073de7db"
      },
      "source": [
        "# read the train.csv file into a datframe\n",
        "df_train = pd.read_csv('../input/train.csv')\n",
        "print('Shape: ', df_train.shape)\n",
        "df_train.head()"
      ],
      "execution_count": 0,
      "outputs": [
        {
          "output_type": "stream",
          "text": [
            "Shape:  (891, 12)\n"
          ],
          "name": "stdout"
        },
        {
          "output_type": "execute_result",
          "data": {
            "text/html": [
              "<div>\n",
              "<style scoped>\n",
              "    .dataframe tbody tr th:only-of-type {\n",
              "        vertical-align: middle;\n",
              "    }\n",
              "\n",
              "    .dataframe tbody tr th {\n",
              "        vertical-align: top;\n",
              "    }\n",
              "\n",
              "    .dataframe thead th {\n",
              "        text-align: right;\n",
              "    }\n",
              "</style>\n",
              "<table border=\"1\" class=\"dataframe\">\n",
              "  <thead>\n",
              "    <tr style=\"text-align: right;\">\n",
              "      <th></th>\n",
              "      <th>PassengerId</th>\n",
              "      <th>Survived</th>\n",
              "      <th>Pclass</th>\n",
              "      <th>Name</th>\n",
              "      <th>Sex</th>\n",
              "      <th>Age</th>\n",
              "      <th>SibSp</th>\n",
              "      <th>Parch</th>\n",
              "      <th>Ticket</th>\n",
              "      <th>Fare</th>\n",
              "      <th>Cabin</th>\n",
              "      <th>Embarked</th>\n",
              "    </tr>\n",
              "  </thead>\n",
              "  <tbody>\n",
              "    <tr>\n",
              "      <th>0</th>\n",
              "      <td>1</td>\n",
              "      <td>0</td>\n",
              "      <td>3</td>\n",
              "      <td>Braund, Mr. Owen Harris</td>\n",
              "      <td>male</td>\n",
              "      <td>22.0</td>\n",
              "      <td>1</td>\n",
              "      <td>0</td>\n",
              "      <td>A/5 21171</td>\n",
              "      <td>7.2500</td>\n",
              "      <td>NaN</td>\n",
              "      <td>S</td>\n",
              "    </tr>\n",
              "    <tr>\n",
              "      <th>1</th>\n",
              "      <td>2</td>\n",
              "      <td>1</td>\n",
              "      <td>1</td>\n",
              "      <td>Cumings, Mrs. John Bradley (Florence Briggs Th...</td>\n",
              "      <td>female</td>\n",
              "      <td>38.0</td>\n",
              "      <td>1</td>\n",
              "      <td>0</td>\n",
              "      <td>PC 17599</td>\n",
              "      <td>71.2833</td>\n",
              "      <td>C85</td>\n",
              "      <td>C</td>\n",
              "    </tr>\n",
              "    <tr>\n",
              "      <th>2</th>\n",
              "      <td>3</td>\n",
              "      <td>1</td>\n",
              "      <td>3</td>\n",
              "      <td>Heikkinen, Miss. Laina</td>\n",
              "      <td>female</td>\n",
              "      <td>26.0</td>\n",
              "      <td>0</td>\n",
              "      <td>0</td>\n",
              "      <td>STON/O2. 3101282</td>\n",
              "      <td>7.9250</td>\n",
              "      <td>NaN</td>\n",
              "      <td>S</td>\n",
              "    </tr>\n",
              "    <tr>\n",
              "      <th>3</th>\n",
              "      <td>4</td>\n",
              "      <td>1</td>\n",
              "      <td>1</td>\n",
              "      <td>Futrelle, Mrs. Jacques Heath (Lily May Peel)</td>\n",
              "      <td>female</td>\n",
              "      <td>35.0</td>\n",
              "      <td>1</td>\n",
              "      <td>0</td>\n",
              "      <td>113803</td>\n",
              "      <td>53.1000</td>\n",
              "      <td>C123</td>\n",
              "      <td>S</td>\n",
              "    </tr>\n",
              "    <tr>\n",
              "      <th>4</th>\n",
              "      <td>5</td>\n",
              "      <td>0</td>\n",
              "      <td>3</td>\n",
              "      <td>Allen, Mr. William Henry</td>\n",
              "      <td>male</td>\n",
              "      <td>35.0</td>\n",
              "      <td>0</td>\n",
              "      <td>0</td>\n",
              "      <td>373450</td>\n",
              "      <td>8.0500</td>\n",
              "      <td>NaN</td>\n",
              "      <td>S</td>\n",
              "    </tr>\n",
              "  </tbody>\n",
              "</table>\n",
              "</div>"
            ],
            "text/plain": [
              "   PassengerId  Survived  Pclass    ...        Fare Cabin  Embarked\n",
              "0            1         0       3    ...      7.2500   NaN         S\n",
              "1            2         1       1    ...     71.2833   C85         C\n",
              "2            3         1       3    ...      7.9250   NaN         S\n",
              "3            4         1       1    ...     53.1000  C123         S\n",
              "4            5         0       3    ...      8.0500   NaN         S\n",
              "\n",
              "[5 rows x 12 columns]"
            ]
          },
          "metadata": {
            "tags": []
          },
          "execution_count": 3
        }
      ]
    },
    {
      "cell_type": "code",
      "metadata": {
        "_uuid": "e46006c194e31886a79c4b73cdc407ca730d88fd",
        "id": "23Qsdarf9Qnr",
        "colab_type": "code",
        "colab": {},
        "outputId": "90745fb4-f492-4145-e19f-7c2370eb12ee"
      },
      "source": [
        "# read the test.csv file into a datframe\n",
        "df_test = pd.read_csv('../input/test.csv')\n",
        "print('Shape: ', df_test.shape)\n",
        "df_test.head()"
      ],
      "execution_count": 0,
      "outputs": [
        {
          "output_type": "stream",
          "text": [
            "Shape:  (418, 11)\n"
          ],
          "name": "stdout"
        },
        {
          "output_type": "execute_result",
          "data": {
            "text/html": [
              "<div>\n",
              "<style scoped>\n",
              "    .dataframe tbody tr th:only-of-type {\n",
              "        vertical-align: middle;\n",
              "    }\n",
              "\n",
              "    .dataframe tbody tr th {\n",
              "        vertical-align: top;\n",
              "    }\n",
              "\n",
              "    .dataframe thead th {\n",
              "        text-align: right;\n",
              "    }\n",
              "</style>\n",
              "<table border=\"1\" class=\"dataframe\">\n",
              "  <thead>\n",
              "    <tr style=\"text-align: right;\">\n",
              "      <th></th>\n",
              "      <th>PassengerId</th>\n",
              "      <th>Pclass</th>\n",
              "      <th>Name</th>\n",
              "      <th>Sex</th>\n",
              "      <th>Age</th>\n",
              "      <th>SibSp</th>\n",
              "      <th>Parch</th>\n",
              "      <th>Ticket</th>\n",
              "      <th>Fare</th>\n",
              "      <th>Cabin</th>\n",
              "      <th>Embarked</th>\n",
              "    </tr>\n",
              "  </thead>\n",
              "  <tbody>\n",
              "    <tr>\n",
              "      <th>0</th>\n",
              "      <td>892</td>\n",
              "      <td>3</td>\n",
              "      <td>Kelly, Mr. James</td>\n",
              "      <td>male</td>\n",
              "      <td>34.5</td>\n",
              "      <td>0</td>\n",
              "      <td>0</td>\n",
              "      <td>330911</td>\n",
              "      <td>7.8292</td>\n",
              "      <td>NaN</td>\n",
              "      <td>Q</td>\n",
              "    </tr>\n",
              "    <tr>\n",
              "      <th>1</th>\n",
              "      <td>893</td>\n",
              "      <td>3</td>\n",
              "      <td>Wilkes, Mrs. James (Ellen Needs)</td>\n",
              "      <td>female</td>\n",
              "      <td>47.0</td>\n",
              "      <td>1</td>\n",
              "      <td>0</td>\n",
              "      <td>363272</td>\n",
              "      <td>7.0000</td>\n",
              "      <td>NaN</td>\n",
              "      <td>S</td>\n",
              "    </tr>\n",
              "    <tr>\n",
              "      <th>2</th>\n",
              "      <td>894</td>\n",
              "      <td>2</td>\n",
              "      <td>Myles, Mr. Thomas Francis</td>\n",
              "      <td>male</td>\n",
              "      <td>62.0</td>\n",
              "      <td>0</td>\n",
              "      <td>0</td>\n",
              "      <td>240276</td>\n",
              "      <td>9.6875</td>\n",
              "      <td>NaN</td>\n",
              "      <td>Q</td>\n",
              "    </tr>\n",
              "    <tr>\n",
              "      <th>3</th>\n",
              "      <td>895</td>\n",
              "      <td>3</td>\n",
              "      <td>Wirz, Mr. Albert</td>\n",
              "      <td>male</td>\n",
              "      <td>27.0</td>\n",
              "      <td>0</td>\n",
              "      <td>0</td>\n",
              "      <td>315154</td>\n",
              "      <td>8.6625</td>\n",
              "      <td>NaN</td>\n",
              "      <td>S</td>\n",
              "    </tr>\n",
              "    <tr>\n",
              "      <th>4</th>\n",
              "      <td>896</td>\n",
              "      <td>3</td>\n",
              "      <td>Hirvonen, Mrs. Alexander (Helga E Lindqvist)</td>\n",
              "      <td>female</td>\n",
              "      <td>22.0</td>\n",
              "      <td>1</td>\n",
              "      <td>1</td>\n",
              "      <td>3101298</td>\n",
              "      <td>12.2875</td>\n",
              "      <td>NaN</td>\n",
              "      <td>S</td>\n",
              "    </tr>\n",
              "  </tbody>\n",
              "</table>\n",
              "</div>"
            ],
            "text/plain": [
              "   PassengerId  Pclass   ...    Cabin Embarked\n",
              "0          892       3   ...      NaN        Q\n",
              "1          893       3   ...      NaN        S\n",
              "2          894       2   ...      NaN        Q\n",
              "3          895       3   ...      NaN        S\n",
              "4          896       3   ...      NaN        S\n",
              "\n",
              "[5 rows x 11 columns]"
            ]
          },
          "metadata": {
            "tags": []
          },
          "execution_count": 4
        }
      ]
    },
    {
      "cell_type": "code",
      "metadata": {
        "_uuid": "8437b23557325d4d23a5890da900c531b5450415",
        "id": "1GpUUDIg9Qnw",
        "colab_type": "code",
        "colab": {},
        "outputId": "b8c1b573-b8a6-41d2-c790-e486b9923188"
      },
      "source": [
        "# create df_full by merging both train and test data\n",
        "df_full = df_train.append(df_test, sort=False)\n",
        "print('Shape: ', df_full.shape)"
      ],
      "execution_count": 0,
      "outputs": [
        {
          "output_type": "stream",
          "text": [
            "Shape:  (1309, 12)\n"
          ],
          "name": "stdout"
        }
      ]
    },
    {
      "cell_type": "markdown",
      "metadata": {
        "_uuid": "41168d1e7f818abf19e4843ea27523c9d634dc06",
        "id": "C8ZUJp-89Qn1",
        "colab_type": "text"
      },
      "source": [
        "# Exploratory Data Analysis"
      ]
    },
    {
      "cell_type": "code",
      "metadata": {
        "_uuid": "e2fb5105b8e4d4867ab5f86dfe73729bcc948461",
        "id": "zOaiDcJ89Qn2",
        "colab_type": "code",
        "colab": {},
        "outputId": "ab4a73df-a21f-443c-b507-086e93e23fb4"
      },
      "source": [
        "df_train.info()"
      ],
      "execution_count": 0,
      "outputs": [
        {
          "output_type": "stream",
          "text": [
            "<class 'pandas.core.frame.DataFrame'>\n",
            "RangeIndex: 891 entries, 0 to 890\n",
            "Data columns (total 12 columns):\n",
            "PassengerId    891 non-null int64\n",
            "Survived       891 non-null int64\n",
            "Pclass         891 non-null int64\n",
            "Name           891 non-null object\n",
            "Sex            891 non-null object\n",
            "Age            714 non-null float64\n",
            "SibSp          891 non-null int64\n",
            "Parch          891 non-null int64\n",
            "Ticket         891 non-null object\n",
            "Fare           891 non-null float64\n",
            "Cabin          204 non-null object\n",
            "Embarked       889 non-null object\n",
            "dtypes: float64(2), int64(5), object(5)\n",
            "memory usage: 83.6+ KB\n"
          ],
          "name": "stdout"
        }
      ]
    },
    {
      "cell_type": "code",
      "metadata": {
        "_uuid": "3083e91f6e0bf2caac544a2aae89fd3507b72a93",
        "id": "mO7nl-1E9Qn7",
        "colab_type": "code",
        "colab": {},
        "outputId": "fc410324-143e-47e6-a13f-11b5ec8d630c"
      },
      "source": [
        "df_test.info()"
      ],
      "execution_count": 0,
      "outputs": [
        {
          "output_type": "stream",
          "text": [
            "<class 'pandas.core.frame.DataFrame'>\n",
            "RangeIndex: 418 entries, 0 to 417\n",
            "Data columns (total 11 columns):\n",
            "PassengerId    418 non-null int64\n",
            "Pclass         418 non-null int64\n",
            "Name           418 non-null object\n",
            "Sex            418 non-null object\n",
            "Age            332 non-null float64\n",
            "SibSp          418 non-null int64\n",
            "Parch          418 non-null int64\n",
            "Ticket         418 non-null object\n",
            "Fare           417 non-null float64\n",
            "Cabin          91 non-null object\n",
            "Embarked       418 non-null object\n",
            "dtypes: float64(2), int64(4), object(5)\n",
            "memory usage: 36.0+ KB\n"
          ],
          "name": "stdout"
        }
      ]
    },
    {
      "cell_type": "code",
      "metadata": {
        "_uuid": "1e5147cf9aee7c1f17fbab2046118de355807c93",
        "id": "AIlptl-i9Qn_",
        "colab_type": "code",
        "colab": {}
      },
      "source": [
        "# import LabelEncoder\n",
        "from sklearn.preprocessing import LabelEncoder\n",
        "\n",
        "# create function EDA_helper to do which is doing 3 things: binning, encoding of the feature and calculating the impact on the target feature\n",
        "def EDA_helper(feature, bin_number=5, train_size=891):\n",
        "    '''function creates a new column as 'old feature name_bin' and bins the values (only if the number of unique values is more than 10). After that it calculates the sum, count and mean of the feature values'''    \n",
        "    # calculate number of unique values for the feature\n",
        "    unique_features = len(list(df_full[feature].unique()))\n",
        "    # if there are more than 10 unique values\n",
        "    if unique_features > 10:\n",
        "        print('Number of unique features is %d, starting to bin...' % unique_features)\n",
        "        # create a new column for the bins\n",
        "        df_full[feature + '_bin'] = pd.qcut(df_full[feature], bin_number)\n",
        "        # assign the bins to the train and test dataframe\n",
        "        df_train[feature + '_bin'] = df_full[feature + '_bin'][:train_size]\n",
        "        df_test[feature + '_bin'] = df_full[feature + '_bin'][train_size:]\n",
        "        # define LabelEncoder instance \n",
        "        label = LabelEncoder()\n",
        "        # fit and transform the data\n",
        "        df_full[feature + '_bin_code'] = label.fit_transform(df_full[feature + '_bin'].astype(str))\n",
        "        # assign the encoded bins to the train and test dataframe\n",
        "        df_train[feature + '_bin_code'] = df_full[feature + '_bin_code'][:train_size]\n",
        "        df_test[feature + '_bin_code'] = df_full[feature + '_bin_code'][train_size:]\n",
        "        print('Binning successful, calculating impact...')\n",
        "        # calculate the statistics\n",
        "        impact = df_full[[feature + '_bin', 'Survived']].groupby([feature + '_bin']).agg(['sum','count','mean']).rename(columns={'sum':'Yes','count':'Total','mean':'In %'})\n",
        "    else:\n",
        "        print('Number of unique features is %d, binning not needed. Calculating impact...' % unique_features)\n",
        "        # define LabelEncoder instance \n",
        "        label = LabelEncoder()\n",
        "        # fit and transform the data\n",
        "        df_full[feature + '_code'] = label.fit_transform(df_full[feature])\n",
        "        # assign the encoded bins to the train and test dataframe\n",
        "        df_train[feature + '_code'] = df_full[feature + '_code'][:train_size]\n",
        "        df_test[feature + '_code'] = df_full[feature + '_code'][train_size:]\n",
        "        # calculate the statistics for not binned features\n",
        "        impact = df_full[[feature, 'Survived']].groupby([feature]).agg(['sum','count','mean']).rename(columns={'sum':'Yes','count':'Total','mean':'In %'})\n",
        "    return impact"
      ],
      "execution_count": 0,
      "outputs": []
    },
    {
      "cell_type": "markdown",
      "metadata": {
        "_uuid": "3c383b5c20373318c744cbf9db6e2a910fc1727a",
        "id": "P3JP1MIC9QoC",
        "colab_type": "text"
      },
      "source": [
        "### PassengerId"
      ]
    },
    {
      "cell_type": "code",
      "metadata": {
        "_uuid": "b4b2b237580854502ac13fae45256672dc9983c7",
        "id": "pHOg_Nkv9QoD",
        "colab_type": "code",
        "colab": {},
        "outputId": "bf4f85bc-9d07-4aa8-a65e-40e50191ab26"
      },
      "source": [
        "# using the function on the 'PassengerId' column\n",
        "EDA_helper('PassengerId')"
      ],
      "execution_count": 0,
      "outputs": [
        {
          "output_type": "stream",
          "text": [
            "Number of unique features is 1309, starting to bin...\n",
            "Binning successful, calculating impact...\n"
          ],
          "name": "stdout"
        },
        {
          "output_type": "execute_result",
          "data": {
            "text/html": [
              "<div>\n",
              "<style scoped>\n",
              "    .dataframe tbody tr th:only-of-type {\n",
              "        vertical-align: middle;\n",
              "    }\n",
              "\n",
              "    .dataframe tbody tr th {\n",
              "        vertical-align: top;\n",
              "    }\n",
              "\n",
              "    .dataframe thead tr th {\n",
              "        text-align: left;\n",
              "    }\n",
              "\n",
              "    .dataframe thead tr:last-of-type th {\n",
              "        text-align: right;\n",
              "    }\n",
              "</style>\n",
              "<table border=\"1\" class=\"dataframe\">\n",
              "  <thead>\n",
              "    <tr>\n",
              "      <th></th>\n",
              "      <th colspan=\"3\" halign=\"left\">Survived</th>\n",
              "    </tr>\n",
              "    <tr>\n",
              "      <th></th>\n",
              "      <th>Yes</th>\n",
              "      <th>Total</th>\n",
              "      <th>In %</th>\n",
              "    </tr>\n",
              "    <tr>\n",
              "      <th>PassengerId_bin</th>\n",
              "      <th></th>\n",
              "      <th></th>\n",
              "      <th></th>\n",
              "    </tr>\n",
              "  </thead>\n",
              "  <tbody>\n",
              "    <tr>\n",
              "      <th>(0.999, 262.6]</th>\n",
              "      <td>92.0</td>\n",
              "      <td>262</td>\n",
              "      <td>0.351145</td>\n",
              "    </tr>\n",
              "    <tr>\n",
              "      <th>(262.6, 524.2]</th>\n",
              "      <td>112.0</td>\n",
              "      <td>262</td>\n",
              "      <td>0.427481</td>\n",
              "    </tr>\n",
              "    <tr>\n",
              "      <th>(524.2, 785.8]</th>\n",
              "      <td>100.0</td>\n",
              "      <td>261</td>\n",
              "      <td>0.383142</td>\n",
              "    </tr>\n",
              "    <tr>\n",
              "      <th>(785.8, 1047.4]</th>\n",
              "      <td>38.0</td>\n",
              "      <td>106</td>\n",
              "      <td>0.358491</td>\n",
              "    </tr>\n",
              "    <tr>\n",
              "      <th>(1047.4, 1309.0]</th>\n",
              "      <td>0.0</td>\n",
              "      <td>0</td>\n",
              "      <td>NaN</td>\n",
              "    </tr>\n",
              "  </tbody>\n",
              "</table>\n",
              "</div>"
            ],
            "text/plain": [
              "                 Survived                \n",
              "                      Yes Total      In %\n",
              "PassengerId_bin                          \n",
              "(0.999, 262.6]       92.0   262  0.351145\n",
              "(262.6, 524.2]      112.0   262  0.427481\n",
              "(524.2, 785.8]      100.0   261  0.383142\n",
              "(785.8, 1047.4]      38.0   106  0.358491\n",
              "(1047.4, 1309.0]      0.0     0       NaN"
            ]
          },
          "metadata": {
            "tags": []
          },
          "execution_count": 9
        }
      ]
    },
    {
      "cell_type": "markdown",
      "metadata": {
        "_uuid": "af5b9cc90a534924d0e85f003a731c652767db52",
        "id": "adnBZnSj9QoH",
        "colab_type": "text"
      },
      "source": [
        "### Survived"
      ]
    },
    {
      "cell_type": "code",
      "metadata": {
        "_uuid": "625572f25baf00d621e818f9e1e0c03c982a1ebc",
        "id": "CHHWI_8F9QoI",
        "colab_type": "code",
        "colab": {},
        "outputId": "2b9ffa66-c624-480b-d9d8-136b6b474951"
      },
      "source": [
        "# unique value counts in 'Survived' column\n",
        "df_train['Survived'].value_counts()"
      ],
      "execution_count": 0,
      "outputs": [
        {
          "output_type": "execute_result",
          "data": {
            "text/plain": [
              "0    549\n",
              "1    342\n",
              "Name: Survived, dtype: int64"
            ]
          },
          "metadata": {
            "tags": []
          },
          "execution_count": 10
        }
      ]
    },
    {
      "cell_type": "markdown",
      "metadata": {
        "_uuid": "17450b80f8df5b765c1d57f91e76e1c66fb25a0b",
        "id": "tLmYz6-S9QoQ",
        "colab_type": "text"
      },
      "source": [
        "### Pclass"
      ]
    },
    {
      "cell_type": "code",
      "metadata": {
        "_uuid": "72d85c70d5bf370bf01528a8cb2552dd69d291c4",
        "id": "_VWZn_S89QoR",
        "colab_type": "code",
        "colab": {},
        "outputId": "ffc7a303-ac97-46cd-dc12-2428b1cc79aa"
      },
      "source": [
        "EDA_helper('Pclass')"
      ],
      "execution_count": 0,
      "outputs": [
        {
          "output_type": "stream",
          "text": [
            "Number of unique features is 3, binning not needed. Calculating impact...\n"
          ],
          "name": "stdout"
        },
        {
          "output_type": "execute_result",
          "data": {
            "text/html": [
              "<div>\n",
              "<style scoped>\n",
              "    .dataframe tbody tr th:only-of-type {\n",
              "        vertical-align: middle;\n",
              "    }\n",
              "\n",
              "    .dataframe tbody tr th {\n",
              "        vertical-align: top;\n",
              "    }\n",
              "\n",
              "    .dataframe thead tr th {\n",
              "        text-align: left;\n",
              "    }\n",
              "\n",
              "    .dataframe thead tr:last-of-type th {\n",
              "        text-align: right;\n",
              "    }\n",
              "</style>\n",
              "<table border=\"1\" class=\"dataframe\">\n",
              "  <thead>\n",
              "    <tr>\n",
              "      <th></th>\n",
              "      <th colspan=\"3\" halign=\"left\">Survived</th>\n",
              "    </tr>\n",
              "    <tr>\n",
              "      <th></th>\n",
              "      <th>Yes</th>\n",
              "      <th>Total</th>\n",
              "      <th>In %</th>\n",
              "    </tr>\n",
              "    <tr>\n",
              "      <th>Pclass</th>\n",
              "      <th></th>\n",
              "      <th></th>\n",
              "      <th></th>\n",
              "    </tr>\n",
              "  </thead>\n",
              "  <tbody>\n",
              "    <tr>\n",
              "      <th>1</th>\n",
              "      <td>136.0</td>\n",
              "      <td>216</td>\n",
              "      <td>0.629630</td>\n",
              "    </tr>\n",
              "    <tr>\n",
              "      <th>2</th>\n",
              "      <td>87.0</td>\n",
              "      <td>184</td>\n",
              "      <td>0.472826</td>\n",
              "    </tr>\n",
              "    <tr>\n",
              "      <th>3</th>\n",
              "      <td>119.0</td>\n",
              "      <td>491</td>\n",
              "      <td>0.242363</td>\n",
              "    </tr>\n",
              "  </tbody>\n",
              "</table>\n",
              "</div>"
            ],
            "text/plain": [
              "       Survived                \n",
              "            Yes Total      In %\n",
              "Pclass                         \n",
              "1         136.0   216  0.629630\n",
              "2          87.0   184  0.472826\n",
              "3         119.0   491  0.242363"
            ]
          },
          "metadata": {
            "tags": []
          },
          "execution_count": 11
        }
      ]
    },
    {
      "cell_type": "markdown",
      "metadata": {
        "_uuid": "bcaef52bef0ca27cc693fa6e6cb49cd15e6bf68a",
        "id": "LFfvBvlv9QoU",
        "colab_type": "text"
      },
      "source": [
        "### Name"
      ]
    },
    {
      "cell_type": "code",
      "metadata": {
        "_uuid": "b3170286a737a8bb340c7e7aabf47562494d9768",
        "id": "oe7qUHEQ9QoV",
        "colab_type": "code",
        "colab": {},
        "outputId": "c25d4cda-b470-45cd-a35a-8e6e1490f241"
      },
      "source": [
        "# extract the title from the 'Name' column\n",
        "for name in df_full['Name']:\n",
        "    df_full['Title'] = df_full['Name'].str.extract('([A-Za-z]+)\\.', expand=False)\n",
        "\n",
        "# check how the different titles are distributed by gender\n",
        "print(pd.crosstab(df_full['Title'], df_full['Sex']))"
      ],
      "execution_count": 0,
      "outputs": [
        {
          "output_type": "stream",
          "text": [
            "Sex       female  male\n",
            "Title                 \n",
            "Capt           0     1\n",
            "Col            0     4\n",
            "Countess       1     0\n",
            "Don            0     1\n",
            "Dona           1     0\n",
            "Dr             1     7\n",
            "Jonkheer       0     1\n",
            "Lady           1     0\n",
            "Major          0     2\n",
            "Master         0    61\n",
            "Miss         260     0\n",
            "Mlle           2     0\n",
            "Mme            1     0\n",
            "Mr             0   757\n",
            "Mrs          197     0\n",
            "Ms             2     0\n",
            "Rev            0     8\n",
            "Sir            0     1\n"
          ],
          "name": "stdout"
        }
      ]
    },
    {
      "cell_type": "code",
      "metadata": {
        "_uuid": "4006aeb81c035cca456801cdd936ab6ab205cde7",
        "id": "6mDfyNNh9QoZ",
        "colab_type": "code",
        "colab": {},
        "outputId": "aa9d9546-7c97-43dd-9c41-c5d666ba8c73"
      },
      "source": [
        "# categorize titles\n",
        "for title in df_full['Title']:\n",
        "    df_full['Title'] = df_full['Title'].replace(['Lady', 'Countess','Capt', 'Col',\n",
        "                                                'Don', 'Dr', 'Major', 'Rev', 'Sir', 'Jonkheer', 'Dona'], 'Rare'\n",
        "                                               )\n",
        "    df_full['Title'] = df_full['Title'].replace('Mlle', 'Miss')\n",
        "    df_full['Title'] = df_full['Title'].replace('Ms', 'Miss')\n",
        "    df_full['Title'] = df_full['Title'].replace('Mme', 'Mrs')\n",
        "    \n",
        "# use the EDA_helper function\n",
        "EDA_helper('Title')"
      ],
      "execution_count": 0,
      "outputs": [
        {
          "output_type": "stream",
          "text": [
            "Number of unique features is 5, binning not needed. Calculating impact...\n"
          ],
          "name": "stdout"
        },
        {
          "output_type": "execute_result",
          "data": {
            "text/html": [
              "<div>\n",
              "<style scoped>\n",
              "    .dataframe tbody tr th:only-of-type {\n",
              "        vertical-align: middle;\n",
              "    }\n",
              "\n",
              "    .dataframe tbody tr th {\n",
              "        vertical-align: top;\n",
              "    }\n",
              "\n",
              "    .dataframe thead tr th {\n",
              "        text-align: left;\n",
              "    }\n",
              "\n",
              "    .dataframe thead tr:last-of-type th {\n",
              "        text-align: right;\n",
              "    }\n",
              "</style>\n",
              "<table border=\"1\" class=\"dataframe\">\n",
              "  <thead>\n",
              "    <tr>\n",
              "      <th></th>\n",
              "      <th colspan=\"3\" halign=\"left\">Survived</th>\n",
              "    </tr>\n",
              "    <tr>\n",
              "      <th></th>\n",
              "      <th>Yes</th>\n",
              "      <th>Total</th>\n",
              "      <th>In %</th>\n",
              "    </tr>\n",
              "    <tr>\n",
              "      <th>Title</th>\n",
              "      <th></th>\n",
              "      <th></th>\n",
              "      <th></th>\n",
              "    </tr>\n",
              "  </thead>\n",
              "  <tbody>\n",
              "    <tr>\n",
              "      <th>Master</th>\n",
              "      <td>23.0</td>\n",
              "      <td>40</td>\n",
              "      <td>0.575000</td>\n",
              "    </tr>\n",
              "    <tr>\n",
              "      <th>Miss</th>\n",
              "      <td>130.0</td>\n",
              "      <td>185</td>\n",
              "      <td>0.702703</td>\n",
              "    </tr>\n",
              "    <tr>\n",
              "      <th>Mr</th>\n",
              "      <td>81.0</td>\n",
              "      <td>517</td>\n",
              "      <td>0.156673</td>\n",
              "    </tr>\n",
              "    <tr>\n",
              "      <th>Mrs</th>\n",
              "      <td>100.0</td>\n",
              "      <td>126</td>\n",
              "      <td>0.793651</td>\n",
              "    </tr>\n",
              "    <tr>\n",
              "      <th>Rare</th>\n",
              "      <td>8.0</td>\n",
              "      <td>23</td>\n",
              "      <td>0.347826</td>\n",
              "    </tr>\n",
              "  </tbody>\n",
              "</table>\n",
              "</div>"
            ],
            "text/plain": [
              "       Survived                \n",
              "            Yes Total      In %\n",
              "Title                          \n",
              "Master     23.0    40  0.575000\n",
              "Miss      130.0   185  0.702703\n",
              "Mr         81.0   517  0.156673\n",
              "Mrs       100.0   126  0.793651\n",
              "Rare        8.0    23  0.347826"
            ]
          },
          "metadata": {
            "tags": []
          },
          "execution_count": 13
        }
      ]
    },
    {
      "cell_type": "markdown",
      "metadata": {
        "_uuid": "54f045752b91d7bf096dff8eb4c282df37946e91",
        "id": "7_7O9dHW9Qod",
        "colab_type": "text"
      },
      "source": [
        "### Sex"
      ]
    },
    {
      "cell_type": "code",
      "metadata": {
        "_uuid": "f95943493e31ae7a2439195c8880ff486eb2909a",
        "id": "UN4Cw32l9Qoe",
        "colab_type": "code",
        "colab": {},
        "outputId": "ff90d39e-d773-42de-9e4d-9671ea0a55f5"
      },
      "source": [
        "EDA_helper('Sex')"
      ],
      "execution_count": 0,
      "outputs": [
        {
          "output_type": "stream",
          "text": [
            "Number of unique features is 2, binning not needed. Calculating impact...\n"
          ],
          "name": "stdout"
        },
        {
          "output_type": "execute_result",
          "data": {
            "text/html": [
              "<div>\n",
              "<style scoped>\n",
              "    .dataframe tbody tr th:only-of-type {\n",
              "        vertical-align: middle;\n",
              "    }\n",
              "\n",
              "    .dataframe tbody tr th {\n",
              "        vertical-align: top;\n",
              "    }\n",
              "\n",
              "    .dataframe thead tr th {\n",
              "        text-align: left;\n",
              "    }\n",
              "\n",
              "    .dataframe thead tr:last-of-type th {\n",
              "        text-align: right;\n",
              "    }\n",
              "</style>\n",
              "<table border=\"1\" class=\"dataframe\">\n",
              "  <thead>\n",
              "    <tr>\n",
              "      <th></th>\n",
              "      <th colspan=\"3\" halign=\"left\">Survived</th>\n",
              "    </tr>\n",
              "    <tr>\n",
              "      <th></th>\n",
              "      <th>Yes</th>\n",
              "      <th>Total</th>\n",
              "      <th>In %</th>\n",
              "    </tr>\n",
              "    <tr>\n",
              "      <th>Sex</th>\n",
              "      <th></th>\n",
              "      <th></th>\n",
              "      <th></th>\n",
              "    </tr>\n",
              "  </thead>\n",
              "  <tbody>\n",
              "    <tr>\n",
              "      <th>female</th>\n",
              "      <td>233.0</td>\n",
              "      <td>314</td>\n",
              "      <td>0.742038</td>\n",
              "    </tr>\n",
              "    <tr>\n",
              "      <th>male</th>\n",
              "      <td>109.0</td>\n",
              "      <td>577</td>\n",
              "      <td>0.188908</td>\n",
              "    </tr>\n",
              "  </tbody>\n",
              "</table>\n",
              "</div>"
            ],
            "text/plain": [
              "       Survived                \n",
              "            Yes Total      In %\n",
              "Sex                            \n",
              "female    233.0   314  0.742038\n",
              "male      109.0   577  0.188908"
            ]
          },
          "metadata": {
            "tags": []
          },
          "execution_count": 14
        }
      ]
    },
    {
      "cell_type": "markdown",
      "metadata": {
        "_uuid": "ed83baf98e86a3d7808c330e130dc24a786088c9",
        "id": "8Tp7gulz9Qoh",
        "colab_type": "text"
      },
      "source": [
        "### Age"
      ]
    },
    {
      "cell_type": "code",
      "metadata": {
        "_uuid": "130fbc7c2a8bd2c078ef31a6d11e0cb6d0dbe80f",
        "id": "Et0DQKLq9Qoi",
        "colab_type": "code",
        "colab": {},
        "outputId": "9bb574ae-90ff-4552-a345-0d3b6dd0b002"
      },
      "source": [
        "# fill the missing age info with median from the full dataset\n",
        "for age in df_full['Age']:\n",
        "    df_full['Age'].fillna(df_full['Age'].median(), inplace=True)\n",
        "\n",
        "# using the EDA_helper function and setting number of bins to 4\n",
        "EDA_helper('Age', 4)"
      ],
      "execution_count": 0,
      "outputs": [
        {
          "output_type": "stream",
          "text": [
            "Number of unique features is 98, starting to bin...\n",
            "Binning successful, calculating impact...\n"
          ],
          "name": "stdout"
        },
        {
          "output_type": "execute_result",
          "data": {
            "text/html": [
              "<div>\n",
              "<style scoped>\n",
              "    .dataframe tbody tr th:only-of-type {\n",
              "        vertical-align: middle;\n",
              "    }\n",
              "\n",
              "    .dataframe tbody tr th {\n",
              "        vertical-align: top;\n",
              "    }\n",
              "\n",
              "    .dataframe thead tr th {\n",
              "        text-align: left;\n",
              "    }\n",
              "\n",
              "    .dataframe thead tr:last-of-type th {\n",
              "        text-align: right;\n",
              "    }\n",
              "</style>\n",
              "<table border=\"1\" class=\"dataframe\">\n",
              "  <thead>\n",
              "    <tr>\n",
              "      <th></th>\n",
              "      <th colspan=\"3\" halign=\"left\">Survived</th>\n",
              "    </tr>\n",
              "    <tr>\n",
              "      <th></th>\n",
              "      <th>Yes</th>\n",
              "      <th>Total</th>\n",
              "      <th>In %</th>\n",
              "    </tr>\n",
              "    <tr>\n",
              "      <th>Age_bin</th>\n",
              "      <th></th>\n",
              "      <th></th>\n",
              "      <th></th>\n",
              "    </tr>\n",
              "  </thead>\n",
              "  <tbody>\n",
              "    <tr>\n",
              "      <th>(0.169, 22.0]</th>\n",
              "      <td>98.0</td>\n",
              "      <td>231</td>\n",
              "      <td>0.424242</td>\n",
              "    </tr>\n",
              "    <tr>\n",
              "      <th>(22.0, 28.0]</th>\n",
              "      <td>102.0</td>\n",
              "      <td>308</td>\n",
              "      <td>0.331169</td>\n",
              "    </tr>\n",
              "    <tr>\n",
              "      <th>(28.0, 35.0]</th>\n",
              "      <td>59.0</td>\n",
              "      <td>135</td>\n",
              "      <td>0.437037</td>\n",
              "    </tr>\n",
              "    <tr>\n",
              "      <th>(35.0, 80.0]</th>\n",
              "      <td>83.0</td>\n",
              "      <td>217</td>\n",
              "      <td>0.382488</td>\n",
              "    </tr>\n",
              "  </tbody>\n",
              "</table>\n",
              "</div>"
            ],
            "text/plain": [
              "              Survived                \n",
              "                   Yes Total      In %\n",
              "Age_bin                               \n",
              "(0.169, 22.0]     98.0   231  0.424242\n",
              "(22.0, 28.0]     102.0   308  0.331169\n",
              "(28.0, 35.0]      59.0   135  0.437037\n",
              "(35.0, 80.0]      83.0   217  0.382488"
            ]
          },
          "metadata": {
            "tags": []
          },
          "execution_count": 15
        }
      ]
    },
    {
      "cell_type": "markdown",
      "metadata": {
        "_uuid": "d2354b7f46da4b23173682f30d81020efd2b5439",
        "id": "kDdkXmMG9Qom",
        "colab_type": "text"
      },
      "source": [
        "### SibSp & Parch"
      ]
    },
    {
      "cell_type": "code",
      "metadata": {
        "_uuid": "e1da456d212deabc36127bb320b5717973cacd64",
        "id": "ZWY0wEis9Qon",
        "colab_type": "code",
        "colab": {},
        "outputId": "bab8e78e-852e-4705-f285-9537e981190e"
      },
      "source": [
        "# combine both columns as 'Family size'\n",
        "df_full['Family Size'] = df_full['SibSp'] + df_full['Parch']\n",
        "\n",
        "EDA_helper('Family Size')"
      ],
      "execution_count": 0,
      "outputs": [
        {
          "output_type": "stream",
          "text": [
            "Number of unique features is 9, binning not needed. Calculating impact...\n"
          ],
          "name": "stdout"
        },
        {
          "output_type": "execute_result",
          "data": {
            "text/html": [
              "<div>\n",
              "<style scoped>\n",
              "    .dataframe tbody tr th:only-of-type {\n",
              "        vertical-align: middle;\n",
              "    }\n",
              "\n",
              "    .dataframe tbody tr th {\n",
              "        vertical-align: top;\n",
              "    }\n",
              "\n",
              "    .dataframe thead tr th {\n",
              "        text-align: left;\n",
              "    }\n",
              "\n",
              "    .dataframe thead tr:last-of-type th {\n",
              "        text-align: right;\n",
              "    }\n",
              "</style>\n",
              "<table border=\"1\" class=\"dataframe\">\n",
              "  <thead>\n",
              "    <tr>\n",
              "      <th></th>\n",
              "      <th colspan=\"3\" halign=\"left\">Survived</th>\n",
              "    </tr>\n",
              "    <tr>\n",
              "      <th></th>\n",
              "      <th>Yes</th>\n",
              "      <th>Total</th>\n",
              "      <th>In %</th>\n",
              "    </tr>\n",
              "    <tr>\n",
              "      <th>Family Size</th>\n",
              "      <th></th>\n",
              "      <th></th>\n",
              "      <th></th>\n",
              "    </tr>\n",
              "  </thead>\n",
              "  <tbody>\n",
              "    <tr>\n",
              "      <th>0</th>\n",
              "      <td>163.0</td>\n",
              "      <td>537</td>\n",
              "      <td>0.303538</td>\n",
              "    </tr>\n",
              "    <tr>\n",
              "      <th>1</th>\n",
              "      <td>89.0</td>\n",
              "      <td>161</td>\n",
              "      <td>0.552795</td>\n",
              "    </tr>\n",
              "    <tr>\n",
              "      <th>2</th>\n",
              "      <td>59.0</td>\n",
              "      <td>102</td>\n",
              "      <td>0.578431</td>\n",
              "    </tr>\n",
              "    <tr>\n",
              "      <th>3</th>\n",
              "      <td>21.0</td>\n",
              "      <td>29</td>\n",
              "      <td>0.724138</td>\n",
              "    </tr>\n",
              "    <tr>\n",
              "      <th>4</th>\n",
              "      <td>3.0</td>\n",
              "      <td>15</td>\n",
              "      <td>0.200000</td>\n",
              "    </tr>\n",
              "    <tr>\n",
              "      <th>5</th>\n",
              "      <td>3.0</td>\n",
              "      <td>22</td>\n",
              "      <td>0.136364</td>\n",
              "    </tr>\n",
              "    <tr>\n",
              "      <th>6</th>\n",
              "      <td>4.0</td>\n",
              "      <td>12</td>\n",
              "      <td>0.333333</td>\n",
              "    </tr>\n",
              "    <tr>\n",
              "      <th>7</th>\n",
              "      <td>0.0</td>\n",
              "      <td>6</td>\n",
              "      <td>0.000000</td>\n",
              "    </tr>\n",
              "    <tr>\n",
              "      <th>10</th>\n",
              "      <td>0.0</td>\n",
              "      <td>7</td>\n",
              "      <td>0.000000</td>\n",
              "    </tr>\n",
              "  </tbody>\n",
              "</table>\n",
              "</div>"
            ],
            "text/plain": [
              "            Survived                \n",
              "                 Yes Total      In %\n",
              "Family Size                         \n",
              "0              163.0   537  0.303538\n",
              "1               89.0   161  0.552795\n",
              "2               59.0   102  0.578431\n",
              "3               21.0    29  0.724138\n",
              "4                3.0    15  0.200000\n",
              "5                3.0    22  0.136364\n",
              "6                4.0    12  0.333333\n",
              "7                0.0     6  0.000000\n",
              "10               0.0     7  0.000000"
            ]
          },
          "metadata": {
            "tags": []
          },
          "execution_count": 16
        }
      ]
    },
    {
      "cell_type": "markdown",
      "metadata": {
        "_uuid": "dcab098cc0802533ee4818c0abcc637fd5a93575",
        "id": "kiV7jz_H9Qoq",
        "colab_type": "text"
      },
      "source": [
        "### Ticket"
      ]
    },
    {
      "cell_type": "code",
      "metadata": {
        "_uuid": "9adc3701973729964c570a4e61a581878e7b486d",
        "collapsed": true,
        "id": "zQSQ1oV79Qor",
        "colab_type": "code",
        "colab": {},
        "outputId": "4973d1aa-640e-474c-8a35-64d90e3a37f4"
      },
      "source": [
        "# import library\n",
        "import re\n",
        "\n",
        "# remove non-digits from the ticket and change to numeric type\n",
        "for ticket in df_full['Ticket']:\n",
        "    df_full['Ticket'] = df_full['Ticket'].apply(lambda x: x if x.isdigit() else re.sub('\\D','', x))\n",
        "\n",
        "# changing the type to numeric\n",
        "df_full['Ticket'] = df_full['Ticket'].apply(pd.to_numeric)\n",
        "    \n",
        "EDA_helper('Ticket')"
      ],
      "execution_count": 0,
      "outputs": [
        {
          "output_type": "stream",
          "text": [
            "Number of unique features is 924, starting to bin...\n",
            "Binning successful, calculating impact...\n"
          ],
          "name": "stdout"
        },
        {
          "output_type": "execute_result",
          "data": {
            "text/html": [
              "<div>\n",
              "<style scoped>\n",
              "    .dataframe tbody tr th:only-of-type {\n",
              "        vertical-align: middle;\n",
              "    }\n",
              "\n",
              "    .dataframe tbody tr th {\n",
              "        vertical-align: top;\n",
              "    }\n",
              "\n",
              "    .dataframe thead tr th {\n",
              "        text-align: left;\n",
              "    }\n",
              "\n",
              "    .dataframe thead tr:last-of-type th {\n",
              "        text-align: right;\n",
              "    }\n",
              "</style>\n",
              "<table border=\"1\" class=\"dataframe\">\n",
              "  <thead>\n",
              "    <tr>\n",
              "      <th></th>\n",
              "      <th colspan=\"3\" halign=\"left\">Survived</th>\n",
              "    </tr>\n",
              "    <tr>\n",
              "      <th></th>\n",
              "      <th>Yes</th>\n",
              "      <th>Total</th>\n",
              "      <th>In %</th>\n",
              "    </tr>\n",
              "    <tr>\n",
              "      <th>Ticket_bin</th>\n",
              "      <th></th>\n",
              "      <th></th>\n",
              "      <th></th>\n",
              "    </tr>\n",
              "  </thead>\n",
              "  <tbody>\n",
              "    <tr>\n",
              "      <th>(1.999, 11773.4]</th>\n",
              "      <td>63.0</td>\n",
              "      <td>174</td>\n",
              "      <td>0.362069</td>\n",
              "    </tr>\n",
              "    <tr>\n",
              "      <th>(11773.4, 29150.0]</th>\n",
              "      <td>102.0</td>\n",
              "      <td>166</td>\n",
              "      <td>0.614458</td>\n",
              "    </tr>\n",
              "    <tr>\n",
              "      <th>(29150.0, 239854.4]</th>\n",
              "      <td>87.0</td>\n",
              "      <td>179</td>\n",
              "      <td>0.486034</td>\n",
              "    </tr>\n",
              "    <tr>\n",
              "      <th>(239854.4, 349236.2]</th>\n",
              "      <td>46.0</td>\n",
              "      <td>183</td>\n",
              "      <td>0.251366</td>\n",
              "    </tr>\n",
              "    <tr>\n",
              "      <th>(349236.2, 23101294.0]</th>\n",
              "      <td>43.0</td>\n",
              "      <td>185</td>\n",
              "      <td>0.232432</td>\n",
              "    </tr>\n",
              "  </tbody>\n",
              "</table>\n",
              "</div>"
            ],
            "text/plain": [
              "                       Survived                \n",
              "                            Yes Total      In %\n",
              "Ticket_bin                                     \n",
              "(1.999, 11773.4]           63.0   174  0.362069\n",
              "(11773.4, 29150.0]        102.0   166  0.614458\n",
              "(29150.0, 239854.4]        87.0   179  0.486034\n",
              "(239854.4, 349236.2]       46.0   183  0.251366\n",
              "(349236.2, 23101294.0]     43.0   185  0.232432"
            ]
          },
          "metadata": {
            "tags": []
          },
          "execution_count": 17
        }
      ]
    },
    {
      "cell_type": "markdown",
      "metadata": {
        "_uuid": "c06440108efde44779cd7afe7b0f0ef49f7eca30",
        "id": "ZWTReuyO9Qov",
        "colab_type": "text"
      },
      "source": [
        "### Fare"
      ]
    },
    {
      "cell_type": "code",
      "metadata": {
        "_uuid": "c34e31a5abc780dfb89e82475b9a1f312de0763b",
        "id": "sr7KS5Do9Qov",
        "colab_type": "code",
        "colab": {},
        "outputId": "e5cb6d75-1f97-475b-9a69-51ab19cb407d"
      },
      "source": [
        "# fill the missing fare info with median fare from the full dataset\n",
        "for fare in df_full['Fare']:\n",
        "    df_full['Fare'].fillna(df_full['Fare'].median(), inplace=True)\n",
        "\n",
        "EDA_helper('Fare')"
      ],
      "execution_count": 0,
      "outputs": [
        {
          "output_type": "stream",
          "text": [
            "Number of unique features is 281, starting to bin...\n",
            "Binning successful, calculating impact...\n"
          ],
          "name": "stdout"
        },
        {
          "output_type": "execute_result",
          "data": {
            "text/html": [
              "<div>\n",
              "<style scoped>\n",
              "    .dataframe tbody tr th:only-of-type {\n",
              "        vertical-align: middle;\n",
              "    }\n",
              "\n",
              "    .dataframe tbody tr th {\n",
              "        vertical-align: top;\n",
              "    }\n",
              "\n",
              "    .dataframe thead tr th {\n",
              "        text-align: left;\n",
              "    }\n",
              "\n",
              "    .dataframe thead tr:last-of-type th {\n",
              "        text-align: right;\n",
              "    }\n",
              "</style>\n",
              "<table border=\"1\" class=\"dataframe\">\n",
              "  <thead>\n",
              "    <tr>\n",
              "      <th></th>\n",
              "      <th colspan=\"3\" halign=\"left\">Survived</th>\n",
              "    </tr>\n",
              "    <tr>\n",
              "      <th></th>\n",
              "      <th>Yes</th>\n",
              "      <th>Total</th>\n",
              "      <th>In %</th>\n",
              "    </tr>\n",
              "    <tr>\n",
              "      <th>Fare_bin</th>\n",
              "      <th></th>\n",
              "      <th></th>\n",
              "      <th></th>\n",
              "    </tr>\n",
              "  </thead>\n",
              "  <tbody>\n",
              "    <tr>\n",
              "      <th>(-0.001, 7.854]</th>\n",
              "      <td>39.0</td>\n",
              "      <td>179</td>\n",
              "      <td>0.217877</td>\n",
              "    </tr>\n",
              "    <tr>\n",
              "      <th>(7.854, 10.5]</th>\n",
              "      <td>37.0</td>\n",
              "      <td>184</td>\n",
              "      <td>0.201087</td>\n",
              "    </tr>\n",
              "    <tr>\n",
              "      <th>(10.5, 21.558]</th>\n",
              "      <td>73.0</td>\n",
              "      <td>171</td>\n",
              "      <td>0.426901</td>\n",
              "    </tr>\n",
              "    <tr>\n",
              "      <th>(21.558, 41.579]</th>\n",
              "      <td>82.0</td>\n",
              "      <td>185</td>\n",
              "      <td>0.443243</td>\n",
              "    </tr>\n",
              "    <tr>\n",
              "      <th>(41.579, 512.329]</th>\n",
              "      <td>111.0</td>\n",
              "      <td>172</td>\n",
              "      <td>0.645349</td>\n",
              "    </tr>\n",
              "  </tbody>\n",
              "</table>\n",
              "</div>"
            ],
            "text/plain": [
              "                  Survived                \n",
              "                       Yes Total      In %\n",
              "Fare_bin                                  \n",
              "(-0.001, 7.854]       39.0   179  0.217877\n",
              "(7.854, 10.5]         37.0   184  0.201087\n",
              "(10.5, 21.558]        73.0   171  0.426901\n",
              "(21.558, 41.579]      82.0   185  0.443243\n",
              "(41.579, 512.329]    111.0   172  0.645349"
            ]
          },
          "metadata": {
            "tags": []
          },
          "execution_count": 18
        }
      ]
    },
    {
      "cell_type": "markdown",
      "metadata": {
        "_uuid": "c78bb95ea30df788add2433582ee83daae94ffb3",
        "id": "sWw_9VZu9Qoy",
        "colab_type": "text"
      },
      "source": [
        "### Cabin"
      ]
    },
    {
      "cell_type": "code",
      "metadata": {
        "_uuid": "59ee0db1ac40f248e9320a7e077e1f76bdbd51ee",
        "id": "RKFjOoA29Qoy",
        "colab_type": "code",
        "colab": {},
        "outputId": "5db92160-9e62-4aea-a314-0475cd6d31d0"
      },
      "source": [
        "# fill the missing info with string 'N' and extract the first letter as new column 'N' for the full dataset\n",
        "for cabin in df_full['Cabin']:\n",
        "    df_full['Cabin'].fillna('N', inplace=True)\n",
        "    df_full['Deck'] = df_full['Cabin'].apply(lambda x: 'N' if pd.isnull(x) else x[0])\n",
        "\n",
        "EDA_helper('Deck')"
      ],
      "execution_count": 0,
      "outputs": [
        {
          "output_type": "stream",
          "text": [
            "Number of unique features is 9, binning not needed. Calculating impact...\n"
          ],
          "name": "stdout"
        },
        {
          "output_type": "execute_result",
          "data": {
            "text/html": [
              "<div>\n",
              "<style scoped>\n",
              "    .dataframe tbody tr th:only-of-type {\n",
              "        vertical-align: middle;\n",
              "    }\n",
              "\n",
              "    .dataframe tbody tr th {\n",
              "        vertical-align: top;\n",
              "    }\n",
              "\n",
              "    .dataframe thead tr th {\n",
              "        text-align: left;\n",
              "    }\n",
              "\n",
              "    .dataframe thead tr:last-of-type th {\n",
              "        text-align: right;\n",
              "    }\n",
              "</style>\n",
              "<table border=\"1\" class=\"dataframe\">\n",
              "  <thead>\n",
              "    <tr>\n",
              "      <th></th>\n",
              "      <th colspan=\"3\" halign=\"left\">Survived</th>\n",
              "    </tr>\n",
              "    <tr>\n",
              "      <th></th>\n",
              "      <th>Yes</th>\n",
              "      <th>Total</th>\n",
              "      <th>In %</th>\n",
              "    </tr>\n",
              "    <tr>\n",
              "      <th>Deck</th>\n",
              "      <th></th>\n",
              "      <th></th>\n",
              "      <th></th>\n",
              "    </tr>\n",
              "  </thead>\n",
              "  <tbody>\n",
              "    <tr>\n",
              "      <th>A</th>\n",
              "      <td>7.0</td>\n",
              "      <td>15</td>\n",
              "      <td>0.466667</td>\n",
              "    </tr>\n",
              "    <tr>\n",
              "      <th>B</th>\n",
              "      <td>35.0</td>\n",
              "      <td>47</td>\n",
              "      <td>0.744681</td>\n",
              "    </tr>\n",
              "    <tr>\n",
              "      <th>C</th>\n",
              "      <td>35.0</td>\n",
              "      <td>59</td>\n",
              "      <td>0.593220</td>\n",
              "    </tr>\n",
              "    <tr>\n",
              "      <th>D</th>\n",
              "      <td>25.0</td>\n",
              "      <td>33</td>\n",
              "      <td>0.757576</td>\n",
              "    </tr>\n",
              "    <tr>\n",
              "      <th>E</th>\n",
              "      <td>24.0</td>\n",
              "      <td>32</td>\n",
              "      <td>0.750000</td>\n",
              "    </tr>\n",
              "    <tr>\n",
              "      <th>F</th>\n",
              "      <td>8.0</td>\n",
              "      <td>13</td>\n",
              "      <td>0.615385</td>\n",
              "    </tr>\n",
              "    <tr>\n",
              "      <th>G</th>\n",
              "      <td>2.0</td>\n",
              "      <td>4</td>\n",
              "      <td>0.500000</td>\n",
              "    </tr>\n",
              "    <tr>\n",
              "      <th>N</th>\n",
              "      <td>206.0</td>\n",
              "      <td>687</td>\n",
              "      <td>0.299854</td>\n",
              "    </tr>\n",
              "    <tr>\n",
              "      <th>T</th>\n",
              "      <td>0.0</td>\n",
              "      <td>1</td>\n",
              "      <td>0.000000</td>\n",
              "    </tr>\n",
              "  </tbody>\n",
              "</table>\n",
              "</div>"
            ],
            "text/plain": [
              "     Survived                \n",
              "          Yes Total      In %\n",
              "Deck                         \n",
              "A         7.0    15  0.466667\n",
              "B        35.0    47  0.744681\n",
              "C        35.0    59  0.593220\n",
              "D        25.0    33  0.757576\n",
              "E        24.0    32  0.750000\n",
              "F         8.0    13  0.615385\n",
              "G         2.0     4  0.500000\n",
              "N       206.0   687  0.299854\n",
              "T         0.0     1  0.000000"
            ]
          },
          "metadata": {
            "tags": []
          },
          "execution_count": 19
        }
      ]
    },
    {
      "cell_type": "markdown",
      "metadata": {
        "_uuid": "3bb11700a51ae4378f3c3256fee92a29869ddf0a",
        "id": "XoXFD2Xj9Qo1",
        "colab_type": "text"
      },
      "source": [
        "### Embarked"
      ]
    },
    {
      "cell_type": "code",
      "metadata": {
        "_uuid": "2576d94da297078f6972839c8c01a5b0611329b4",
        "id": "aO1aD7JQ9Qo2",
        "colab_type": "code",
        "colab": {},
        "outputId": "3261a010-f4a7-419d-9620-04a7468e63ef"
      },
      "source": [
        "# fill the missing info with the most common value\n",
        "for cabin in df_full['Embarked']:\n",
        "    df_full['Embarked'].fillna('S', inplace=True)\n",
        "\n",
        "EDA_helper('Embarked')"
      ],
      "execution_count": 0,
      "outputs": [
        {
          "output_type": "stream",
          "text": [
            "Number of unique features is 3, binning not needed. Calculating impact...\n"
          ],
          "name": "stdout"
        },
        {
          "output_type": "execute_result",
          "data": {
            "text/html": [
              "<div>\n",
              "<style scoped>\n",
              "    .dataframe tbody tr th:only-of-type {\n",
              "        vertical-align: middle;\n",
              "    }\n",
              "\n",
              "    .dataframe tbody tr th {\n",
              "        vertical-align: top;\n",
              "    }\n",
              "\n",
              "    .dataframe thead tr th {\n",
              "        text-align: left;\n",
              "    }\n",
              "\n",
              "    .dataframe thead tr:last-of-type th {\n",
              "        text-align: right;\n",
              "    }\n",
              "</style>\n",
              "<table border=\"1\" class=\"dataframe\">\n",
              "  <thead>\n",
              "    <tr>\n",
              "      <th></th>\n",
              "      <th colspan=\"3\" halign=\"left\">Survived</th>\n",
              "    </tr>\n",
              "    <tr>\n",
              "      <th></th>\n",
              "      <th>Yes</th>\n",
              "      <th>Total</th>\n",
              "      <th>In %</th>\n",
              "    </tr>\n",
              "    <tr>\n",
              "      <th>Embarked</th>\n",
              "      <th></th>\n",
              "      <th></th>\n",
              "      <th></th>\n",
              "    </tr>\n",
              "  </thead>\n",
              "  <tbody>\n",
              "    <tr>\n",
              "      <th>C</th>\n",
              "      <td>93.0</td>\n",
              "      <td>168</td>\n",
              "      <td>0.553571</td>\n",
              "    </tr>\n",
              "    <tr>\n",
              "      <th>Q</th>\n",
              "      <td>30.0</td>\n",
              "      <td>77</td>\n",
              "      <td>0.389610</td>\n",
              "    </tr>\n",
              "    <tr>\n",
              "      <th>S</th>\n",
              "      <td>219.0</td>\n",
              "      <td>646</td>\n",
              "      <td>0.339009</td>\n",
              "    </tr>\n",
              "  </tbody>\n",
              "</table>\n",
              "</div>"
            ],
            "text/plain": [
              "         Survived                \n",
              "              Yes Total      In %\n",
              "Embarked                         \n",
              "C            93.0   168  0.553571\n",
              "Q            30.0    77  0.389610\n",
              "S           219.0   646  0.339009"
            ]
          },
          "metadata": {
            "tags": []
          },
          "execution_count": 20
        }
      ]
    },
    {
      "cell_type": "markdown",
      "metadata": {
        "_uuid": "7762d5c717ac729f61990ecd68a5efe9a8491587",
        "id": "OFewKQEE9Qo4",
        "colab_type": "text"
      },
      "source": [
        "# Feature Engineering and Selection\n",
        "\n",
        "### New Feature: Family Survival\n"
      ]
    },
    {
      "cell_type": "code",
      "metadata": {
        "_uuid": "fe470b633ed1f7b97422092a6fc638d0fce0f575",
        "id": "fVfdsszD9Qo5",
        "colab_type": "code",
        "colab": {},
        "outputId": "418d90c4-fd58-4fae-e2dd-7e6c0804e578"
      },
      "source": [
        "# extract the last name from the 'Name' column (using the full_data)\n",
        "for name in df_full['Name']:\n",
        "    df_full['Last Name'] = df_full['Name'].str.extract('([A-Za-z]+)\\,', expand=False)\n",
        "\n",
        "DEFAULT_SURVIVAL_VALUE = 0.5\n",
        "df_full['Family_Survival'] = DEFAULT_SURVIVAL_VALUE\n",
        "\n",
        "for grp, grp_df in df_full[['Survived','Name', 'Last Name', 'Fare', 'Ticket', 'PassengerId',\n",
        "                           'SibSp', 'Parch', 'Age', 'Cabin']].groupby(['Last Name', 'Fare']):\n",
        "    \n",
        "    if (len(grp_df) != 1):\n",
        "        # A Family group is found.\n",
        "        for ind, row in grp_df.iterrows():\n",
        "            smax = grp_df.drop(ind)['Survived'].max()\n",
        "            smin = grp_df.drop(ind)['Survived'].min()\n",
        "            passID = row['PassengerId']\n",
        "            if (smax == 1.0):\n",
        "                df_full.loc[df_full['PassengerId'] == passID, 'Family_Survival'] = 1\n",
        "            elif (smin==0.0):\n",
        "                df_full.loc[df_full['PassengerId'] == passID, 'Family_Survival'] = 0\n",
        "\n",
        "print(\"Number of passengers with family survival information:\", \n",
        "      df_full.loc[df_full['Family_Survival']!=0.5].shape[0])"
      ],
      "execution_count": 0,
      "outputs": [
        {
          "output_type": "stream",
          "text": [
            "Number of passengers with family survival information: 421\n"
          ],
          "name": "stdout"
        }
      ]
    },
    {
      "cell_type": "code",
      "metadata": {
        "_uuid": "81017340ca019d383b58edef0b652aef754f35d2",
        "id": "_fbuGvXW9Qo9",
        "colab_type": "code",
        "colab": {},
        "outputId": "2d44383f-935e-4ee6-a82f-d8cf89c92288"
      },
      "source": [
        "for _, grp_df in df_full.groupby('Ticket'):\n",
        "    if (len(grp_df) != 1):\n",
        "        for ind, row in grp_df.iterrows():\n",
        "            if (row['Family_Survival'] == 0) | (row['Family_Survival']== 0.5):\n",
        "                smax = grp_df.drop(ind)['Survived'].max()\n",
        "                smin = grp_df.drop(ind)['Survived'].min()\n",
        "                passID = row['PassengerId']\n",
        "                if (smax == 1.0):\n",
        "                    df_full.loc[df_full['PassengerId'] == passID, 'Family_Survival'] = 1\n",
        "                elif (smin==0.0):\n",
        "                    df_full.loc[df_full['PassengerId'] == passID, 'Family_Survival'] = 0\n",
        "                        \n",
        "print(\"Number of passenger with family/group survival information: \" \n",
        "      +str(df_full[df_full['Family_Survival']!=0.5].shape[0]))\n",
        "\n",
        "train_size = len(df_train)\n",
        "\n",
        "# Family_Survival in df_train and df_test:\n",
        "df_train['Family_Survival'] = df_full['Family_Survival'][:train_size]\n",
        "df_test['Family_Survival'] = df_full['Family_Survival'][train_size:]"
      ],
      "execution_count": 0,
      "outputs": [
        {
          "output_type": "stream",
          "text": [
            "Number of passenger with family/group survival information: 551\n"
          ],
          "name": "stdout"
        }
      ]
    },
    {
      "cell_type": "markdown",
      "metadata": {
        "_uuid": "1b44c2281975c1ad20930a2d2a739aaa5ccf8c7e",
        "id": "ChHGNxBE9QpB",
        "colab_type": "text"
      },
      "source": [
        "### Selecting Most Important Features"
      ]
    },
    {
      "cell_type": "code",
      "metadata": {
        "_uuid": "4b2d91bd9b59097a9c05b738200f96a74fcf01c8",
        "id": "Et_fKqqS9QpC",
        "colab_type": "code",
        "colab": {},
        "outputId": "894000c8-6767-4711-9f2d-0617b1ffb5e6"
      },
      "source": [
        "# define a list of columns to work with going further\n",
        "columns_to_keep = ['Sex_code', 'Pclass', 'Fare_bin_code', 'Age_bin_code', 'Family Size_code', 'Family_Survival']\n",
        "\n",
        "# create new datafames with the desired columns\n",
        "train = df_train[columns_to_keep]\n",
        "test = df_test[columns_to_keep]\n",
        "\n",
        "# save the target column for later use\n",
        "train_labels = df_train['Survived']\n",
        "\n",
        "print('Train data shape: ', train.shape)\n",
        "print('Test data shape: ', test.shape)"
      ],
      "execution_count": 0,
      "outputs": [
        {
          "output_type": "stream",
          "text": [
            "Train data shape:  (891, 6)\n",
            "Test data shape:  (418, 6)\n"
          ],
          "name": "stdout"
        }
      ]
    },
    {
      "cell_type": "code",
      "metadata": {
        "_uuid": "c68e63aa26aa9d290010570b683867ea82627fff",
        "id": "s2PXfs6k9QpF",
        "colab_type": "code",
        "colab": {},
        "outputId": "61415cb8-767a-409e-a547-7f5e586b2492"
      },
      "source": [
        "train.head()"
      ],
      "execution_count": 0,
      "outputs": [
        {
          "output_type": "execute_result",
          "data": {
            "text/html": [
              "<div>\n",
              "<style scoped>\n",
              "    .dataframe tbody tr th:only-of-type {\n",
              "        vertical-align: middle;\n",
              "    }\n",
              "\n",
              "    .dataframe tbody tr th {\n",
              "        vertical-align: top;\n",
              "    }\n",
              "\n",
              "    .dataframe thead th {\n",
              "        text-align: right;\n",
              "    }\n",
              "</style>\n",
              "<table border=\"1\" class=\"dataframe\">\n",
              "  <thead>\n",
              "    <tr style=\"text-align: right;\">\n",
              "      <th></th>\n",
              "      <th>Sex_code</th>\n",
              "      <th>Pclass</th>\n",
              "      <th>Fare_bin_code</th>\n",
              "      <th>Age_bin_code</th>\n",
              "      <th>Family Size_code</th>\n",
              "      <th>Family_Survival</th>\n",
              "    </tr>\n",
              "  </thead>\n",
              "  <tbody>\n",
              "    <tr>\n",
              "      <th>0</th>\n",
              "      <td>1</td>\n",
              "      <td>3</td>\n",
              "      <td>0</td>\n",
              "      <td>0</td>\n",
              "      <td>1</td>\n",
              "      <td>0.5</td>\n",
              "    </tr>\n",
              "    <tr>\n",
              "      <th>1</th>\n",
              "      <td>0</td>\n",
              "      <td>1</td>\n",
              "      <td>3</td>\n",
              "      <td>3</td>\n",
              "      <td>1</td>\n",
              "      <td>0.5</td>\n",
              "    </tr>\n",
              "    <tr>\n",
              "      <th>2</th>\n",
              "      <td>0</td>\n",
              "      <td>3</td>\n",
              "      <td>4</td>\n",
              "      <td>1</td>\n",
              "      <td>0</td>\n",
              "      <td>0.5</td>\n",
              "    </tr>\n",
              "    <tr>\n",
              "      <th>3</th>\n",
              "      <td>0</td>\n",
              "      <td>1</td>\n",
              "      <td>3</td>\n",
              "      <td>2</td>\n",
              "      <td>1</td>\n",
              "      <td>0.0</td>\n",
              "    </tr>\n",
              "    <tr>\n",
              "      <th>4</th>\n",
              "      <td>1</td>\n",
              "      <td>3</td>\n",
              "      <td>4</td>\n",
              "      <td>2</td>\n",
              "      <td>0</td>\n",
              "      <td>0.5</td>\n",
              "    </tr>\n",
              "  </tbody>\n",
              "</table>\n",
              "</div>"
            ],
            "text/plain": [
              "   Sex_code  Pclass       ...         Family Size_code  Family_Survival\n",
              "0         1       3       ...                        1              0.5\n",
              "1         0       1       ...                        1              0.5\n",
              "2         0       3       ...                        0              0.5\n",
              "3         0       1       ...                        1              0.0\n",
              "4         1       3       ...                        0              0.5\n",
              "\n",
              "[5 rows x 6 columns]"
            ]
          },
          "metadata": {
            "tags": []
          },
          "execution_count": 24
        }
      ]
    },
    {
      "cell_type": "markdown",
      "metadata": {
        "_uuid": "2f2f8abdf793a5700e935fdd312c379cac27d4ca",
        "id": "0_ux4dho9QpI",
        "colab_type": "text"
      },
      "source": [
        "# Modeling"
      ]
    },
    {
      "cell_type": "markdown",
      "metadata": {
        "_uuid": "4e9957d16427c9ac3c88a0879af07f8d9647df27",
        "id": "HJfiI7km9QpI",
        "colab_type": "text"
      },
      "source": [
        "### Gender Model\n"
      ]
    },
    {
      "cell_type": "code",
      "metadata": {
        "_uuid": "7556008e06011b58d0c35bbfb53ef8942c111805",
        "id": "KukwhfUg9QpJ",
        "colab_type": "code",
        "colab": {},
        "outputId": "540f0545-a2cc-41c3-f959-f6886be775d6"
      },
      "source": [
        "# create simple predicition based on gender (women live, men die)\n",
        "gender_pred = df_test['Sex'].apply(lambda x: '1' if x=='female' else '0')\n",
        "gender_pred.value_counts()"
      ],
      "execution_count": 0,
      "outputs": [
        {
          "output_type": "execute_result",
          "data": {
            "text/plain": [
              "0    266\n",
              "1    152\n",
              "Name: Sex, dtype: int64"
            ]
          },
          "metadata": {
            "tags": []
          },
          "execution_count": 25
        }
      ]
    },
    {
      "cell_type": "markdown",
      "metadata": {
        "_uuid": "c9fea479a8dcadfeffd459fdb997faf3f6fc8ff6",
        "id": "Gdctq3449QpL",
        "colab_type": "text"
      },
      "source": [
        "When submitted, this gender-only model will get a **score of 0.76555.**"
      ]
    },
    {
      "cell_type": "markdown",
      "metadata": {
        "_uuid": "cb5ac7109bcdf991053ef5364e762b8eda1b1f0a",
        "collapsed": true,
        "id": "wbNMnJdm9QpM",
        "colab_type": "text"
      },
      "source": [
        "### Random Forest Model"
      ]
    },
    {
      "cell_type": "code",
      "metadata": {
        "_uuid": "c47ba2f0dba976a4613b1ce5b605736353e86819",
        "id": "ZDqQCpF79QpM",
        "colab_type": "code",
        "colab": {}
      },
      "source": [
        "# import libraries\n",
        "from sklearn.preprocessing import StandardScaler\n",
        "from sklearn.ensemble import RandomForestClassifier\n",
        "\n",
        "# define the scaler instance\n",
        "scaler = StandardScaler()\n",
        "\n",
        "# fit on train data, transform both train and test data\n",
        "train = scaler.fit_transform(train)\n",
        "test = scaler.transform(test)\n",
        "        \n",
        "# define the classifier instance\n",
        "clf = RandomForestClassifier(n_estimators=100, random_state = 42)\n",
        "\n",
        "# fit the classifier on the train data and previously saved train labels\n",
        "clf.fit(train, train_labels)\n",
        "\n",
        "# predict on test data\n",
        "rf_results = clf.predict(test)"
      ],
      "execution_count": 0,
      "outputs": []
    },
    {
      "cell_type": "code",
      "metadata": {
        "_uuid": "0c17ee21cd9ef1a65927d86dd75c0447fbd1abdc",
        "id": "EVk5dJcn9QpO",
        "colab_type": "code",
        "colab": {}
      },
      "source": [
        "# make a submission dataframe\n",
        "submit = df_test.loc[:, ['PassengerId']]\n",
        "submit.loc[:, 'Survived'] = rf_results\n",
        "\n",
        "# save the submission dataframe\n",
        "submit.to_csv('submissionRF_.csv', index = False)"
      ],
      "execution_count": 0,
      "outputs": []
    },
    {
      "cell_type": "markdown",
      "metadata": {
        "_uuid": "20e6c98a65c671d02a84347dbd46696d952e27f2",
        "id": "f058Bz7P9QpR",
        "colab_type": "text"
      },
      "source": [
        "When submitted, this random forest model will get a **score of 0.79425**"
      ]
    },
    {
      "cell_type": "markdown",
      "metadata": {
        "_uuid": "4a6481e26cc9a1f8c7777e03f7291ec12119e227",
        "id": "916FuD4l9QpS",
        "colab_type": "text"
      },
      "source": [
        "### TPOT Model\n",
        "\n",
        "\n",
        "Interestingly, TPOT also selected a random forest model which ** scored 0.81818.**"
      ]
    },
    {
      "cell_type": "code",
      "metadata": {
        "_uuid": "0f5ec11c26b29bcdd7f2b74b7ec51d6c993cfa28",
        "id": "opQJ_Xhr9QpT",
        "colab_type": "code",
        "colab": {}
      },
      "source": [
        "# import TPOT\n",
        "from tpot import TPOTClassifier\n",
        "\n",
        "# create instance\n",
        "pipeline_optimizer = TPOTClassifier(max_time_mins=120, n_jobs = -1, random_state=42, verbosity=2, cv=5)\n",
        "\n",
        "# fit TPOT on the train data\n",
        "# commented out after the run\n",
        "#pipeline_optimizer.fit(train, train_labels)\n",
        "\n",
        "# export optimized code\n",
        "# commented out after the run\n",
        "#pipeline_optimizer.export('tpot_titanic_pipeline.py')\n",
        "\n",
        "# import libraries\n",
        "from sklearn.pipeline import make_pipeline\n",
        "\n",
        "# create the pipeline from TPOT\n",
        "# original pipeline inluded a Binarizer and RBFSampler which scored only 0.78947 \n",
        "exported_pipeline = make_pipeline(\n",
        "    RandomForestClassifier(bootstrap=False, criterion=\"gini\", max_features=0.45, min_samples_leaf=14, min_samples_split=13, n_estimators=100)\n",
        ")\n",
        "\n",
        "# fit the pipeline on the train data\n",
        "exported_pipeline.fit(train, train_labels)\n",
        "\n",
        "# predict on the test data\n",
        "results = exported_pipeline.predict(test)"
      ],
      "execution_count": 0,
      "outputs": []
    },
    {
      "cell_type": "code",
      "metadata": {
        "_uuid": "0edd216f688b92b1741fec1372f26f373e15f6b3",
        "id": "E15OJtG-9QpW",
        "colab_type": "code",
        "colab": {}
      },
      "source": [
        "# make a submission dataframe\n",
        "submit = df_test.loc[:, ['PassengerId']]\n",
        "submit.loc[:, 'Survived'] = results\n",
        "\n",
        "# save the submission dataframe\n",
        "submit.to_csv('submission.csv', index = False)"
      ],
      "execution_count": 0,
      "outputs": []
    }
  ]
}